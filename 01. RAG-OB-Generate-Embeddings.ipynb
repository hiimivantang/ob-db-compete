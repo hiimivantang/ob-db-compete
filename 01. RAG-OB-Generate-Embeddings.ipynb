{
 "cells": [
  {
   "cell_type": "code",
   "execution_count": null,
   "id": "2d85419a-244f-4c9a-a803-9dfc45ad30df",
   "metadata": {},
   "outputs": [],
   "source": [
    "# !pip install unstructured"
   ]
  },
  {
   "cell_type": "code",
   "execution_count": 5,
   "id": "a215d8b3-0a7d-4b87-a007-f67a71ef6abb",
   "metadata": {},
   "outputs": [],
   "source": [
    "from langchain.document_loaders import UnstructuredMarkdownLoader\n",
    "import markdown\n",
    "from pathlib import Path\n",
    "\n",
    "docs = []"
   ]
  },
  {
   "cell_type": "markdown",
   "id": "50b801a0-64a5-40d1-9845-bcd0b9dd6c47",
   "metadata": {},
   "source": [
    "# Adding OB docs into our `docs` dict"
   ]
  },
  {
   "cell_type": "code",
   "execution_count": 6,
   "id": "4b96e5d9-8abe-4562-8830-0d08f1131010",
   "metadata": {},
   "outputs": [],
   "source": [
    "markdown_path = \"/Users/ivantang/git_repos/oceanbase-doc/en-US\"\n",
    "for path in Path(markdown_path).rglob('*.md'):\n",
    "    try:\n",
    "        contents = open(path).read()\n",
    "        md = markdown.Markdown(extensions = ['meta'])\n",
    "        c = md.convert(contents)\n",
    "        meta = md.Meta\n",
    "        docs.append(dict(source=str(path),metadata=meta, contents=contents))\n",
    "        breakpoint()\n",
    "    except Exception as e:\n",
    "        print(e)\n"
   ]
  },
  {
   "cell_type": "markdown",
   "id": "0c87badc-21f5-48be-a4d7-2e2e56a66fdf",
   "metadata": {},
   "source": [
    "# Adding Yugabyte docs into our `docs` dict"
   ]
  },
  {
   "cell_type": "code",
   "execution_count": 7,
   "id": "c43cc290-1ed5-4950-adf9-58ae52d8639d",
   "metadata": {},
   "outputs": [],
   "source": [
    "for path in Path(\"/Users/ivantang/git_repos/yugabyte-db/docs/content/stable\").rglob('*.md'):\n",
    "    try:\n",
    "        contents = open(path).read()\n",
    "        md = markdown.Markdown(extensions = ['meta'])\n",
    "        c = md.convert(contents)\n",
    "        meta = md.Meta\n",
    "        docs.append(dict(source=str(path),metadata=meta, contents=contents))\n",
    "        breakpoint()\n",
    "    except Exception as e:\n",
    "        print(e)"
   ]
  },
  {
   "cell_type": "markdown",
   "id": "42b43f55-d0d5-4922-81db-e65478e2ccc1",
   "metadata": {},
   "source": [
    "# Adding CockroachDB docs into our `docs` dict"
   ]
  },
  {
   "cell_type": "code",
   "execution_count": 8,
   "id": "bb2774ad-0f02-44f5-81fb-429b5feb988d",
   "metadata": {},
   "outputs": [],
   "source": [
    "for path in Path(\"/Users/ivantang/git_repos/cockroach-docs/src/current/v23.2\").rglob('*.md'):\n",
    "    try:\n",
    "        contents = open(path).read()\n",
    "        md = markdown.Markdown(extensions = ['meta'])\n",
    "        c = md.convert(contents)\n",
    "        meta = md.Meta\n",
    "        docs.append(dict(source=str(path),metadata=meta, contents=contents))\n",
    "        breakpoint()\n",
    "    except Exception as e:\n",
    "        print(e)"
   ]
  },
  {
   "cell_type": "markdown",
   "id": "59d98e4b-6bb4-4d42-81a0-a28ccee84186",
   "metadata": {},
   "source": [
    "# Adding Pingcap's TiDB docs into our `docs` dict"
   ]
  },
  {
   "cell_type": "code",
   "execution_count": 10,
   "id": "27948004-cf29-4dbe-9b76-311a1e4689e8",
   "metadata": {},
   "outputs": [],
   "source": [
    "for path in Path(\"/Users/ivantang/git_repos/tidb-docs\").rglob('*.md'):\n",
    "    try:\n",
    "        contents = open(path).read()\n",
    "        md = markdown.Markdown(extensions = ['meta'])\n",
    "        c = md.convert(contents)\n",
    "        meta = md.Meta\n",
    "        docs.append(dict(source=str(path),metadata=meta, contents=contents))\n",
    "        breakpoint()\n",
    "    except Exception as e:\n",
    "        print(e)"
   ]
  },
  {
   "cell_type": "code",
   "execution_count": 12,
   "id": "f57ccf19-db9a-4e2d-a5bf-f00a3a47cfe6",
   "metadata": {},
   "outputs": [],
   "source": [
    "from langchain.embeddings import HuggingFaceBgeEmbeddings\n",
    "\n",
    "model_name = \"BAAI/bge-small-en\"\n",
    "encode_kwargs = {'normalize_embeddings': True} # set True to compute cosine similarity\n",
    "model_norm = HuggingFaceBgeEmbeddings(\n",
    "    model_name=model_name,\n",
    "    encode_kwargs=encode_kwargs\n",
    ")"
   ]
  },
  {
   "cell_type": "code",
   "execution_count": 13,
   "id": "1223f609-2069-470c-898a-989a39f106a3",
   "metadata": {},
   "outputs": [],
   "source": [
    "import pandas as pd\n",
    "\n",
    "df = pd.DataFrame.from_dict(docs)\n",
    "df2 = df.join(pd.json_normalize(df['metadata']))\n",
    "# df2['source'] = df2['source'].str.replace('/Users/ivantang/git_repos/oceanbase-doc/en-US/', 'https://github.com/oceanbase/oceanbase-doc/tree/V4.1.0/en-US/')"
   ]
  },
  {
   "cell_type": "code",
   "execution_count": 14,
   "id": "7eb77a06-e0ca-4ba8-aef3-e5543cb3dd2e",
   "metadata": {},
   "outputs": [],
   "source": [
    "import re\n",
    "import markdown\n",
    "\n",
    "def remove_metadata(markdown_text):\n",
    "    # Search for YAML metadata section using regular expression\n",
    "    metadata_match = re.match(r'^---\\s*\\n(.+?)\\s*\\n---\\s*\\n', markdown_text, re.DOTALL)\n",
    "      \n",
    "    if metadata_match:\n",
    "        # Remove metadata section from the content\n",
    "        markdown_content = markdown_text[metadata_match.end():]\n",
    "        return markdown_content\n",
    "    else:\n",
    "        return markdown_text\n",
    "\n",
    "\n",
    "# Remove metadata section\n",
    "markdown_content = remove_metadata(df2['contents'][0])"
   ]
  },
  {
   "cell_type": "code",
   "execution_count": 15,
   "id": "45954322-64ad-411f-bc08-4717e5bacbb5",
   "metadata": {},
   "outputs": [],
   "source": [
    "df2['contents'] = df2['contents'].apply(remove_metadata)\n",
    "df2 = df2.drop(['metadata'], axis=1)"
   ]
  },
  {
   "cell_type": "code",
   "execution_count": 18,
   "id": "56105d6e-0681-42c8-9251-967ad31506fe",
   "metadata": {},
   "outputs": [],
   "source": [
    "from langchain.document_loaders.dataframe import DataFrameLoader\n",
    "from langchain.text_splitter import TokenTextSplitter\n",
    "\n",
    "chunk_size = 1000\n",
    "chunk_overlap = 100\n",
    "\n",
    "\n",
    "loader = DataFrameLoader(df2, page_content_column='contents')\n",
    "x = loader.load_and_split(TokenTextSplitter(chunk_size=chunk_size, chunk_overlap=chunk_overlap))"
   ]
  },
  {
   "cell_type": "code",
   "execution_count": 39,
   "id": "292752fb-047a-4994-a511-657b22f7e1f6",
   "metadata": {},
   "outputs": [
    {
     "data": {
      "text/plain": [
       "10890"
      ]
     },
     "execution_count": 39,
     "metadata": {},
     "output_type": "execute_result"
    }
   ],
   "source": [
    "len(x)"
   ]
  },
  {
   "cell_type": "code",
   "execution_count": 19,
   "id": "5f4ed8fb-8732-4df8-a32c-ec108dd67bfc",
   "metadata": {},
   "outputs": [],
   "source": [
    "from langchain.vectorstores.faiss import FAISS\n",
    "from langchain.embeddings.openai import OpenAIEmbeddings\n",
    "import os\n",
    "from dotenv import load_dotenv\n",
    "import sys\n",
    "import openai\n",
    "import backoff\n",
    "\n",
    "load_dotenv()\n",
    "\n",
    "os.environ[\"OPENAI_API_TYPE\"] = \"azure\"\n",
    "os.environ[\"OPENAI_API_BASE\"] = os.getenv(\"AZURE_OAI_ENDPOINT\")\n",
    "os.environ[\"OPENAI_API_KEY\"] = os.getenv(\"AZURE_OAI_KEY\")\n",
    "os.environ[\"OPENAI_API_VERSION\"] = \"2023-05-15\"\n",
    "\n",
    "model_name = \"BAAI/bge-small-en\"\n",
    "encode_kwargs = {'normalize_embeddings': True} # set True to compute cosine similarity\n",
    "embeddings = HuggingFaceBgeEmbeddings(\n",
    "    model_name=model_name,\n",
    "    encode_kwargs=encode_kwargs\n",
    ")"
   ]
  },
  {
   "cell_type": "code",
   "execution_count": null,
   "id": "efee821d-62ef-4759-b696-4896f0531128",
   "metadata": {},
   "outputs": [],
   "source": [
    "%%time\n",
    "\n",
    "@backoff.on_exception(backoff.expo, openai.error.RateLimitError)\n",
    "def instantiate_with_backoff(**kwargs):\n",
    "    return FAISS.from_documents(**kwargs)\n",
    "\n",
    "vector_store = instantiate_with_backoff(documents=x, embedding=embeddings)"
   ]
  },
  {
   "cell_type": "code",
   "execution_count": 42,
   "id": "e5203e2a-f98d-4ca1-8e4b-0b064bd68221",
   "metadata": {},
   "outputs": [],
   "source": [
    "vector_store.save_local('./ob_vector_store_v3')"
   ]
  }
 ],
 "metadata": {
  "kernelspec": {
   "display_name": "Python 3 (ipykernel)",
   "language": "python",
   "name": "python3"
  },
  "language_info": {
   "codemirror_mode": {
    "name": "ipython",
    "version": 3
   },
   "file_extension": ".py",
   "mimetype": "text/x-python",
   "name": "python",
   "nbconvert_exporter": "python",
   "pygments_lexer": "ipython3",
   "version": "3.9.17"
  }
 },
 "nbformat": 4,
 "nbformat_minor": 5
}
